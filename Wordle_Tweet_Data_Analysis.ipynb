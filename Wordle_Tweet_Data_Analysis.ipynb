{
  "nbformat": 4,
  "nbformat_minor": 0,
  "metadata": {
    "colab": {
      "provenance": [],
      "authorship_tag": "ABX9TyOZEzlmD7YUr/C9YPmJh+PL",
      "include_colab_link": true
    },
    "kernelspec": {
      "name": "python3",
      "display_name": "Python 3"
    },
    "language_info": {
      "name": "python"
    }
  },
  "cells": [
    {
      "cell_type": "markdown",
      "metadata": {
        "id": "view-in-github",
        "colab_type": "text"
      },
      "source": [
        "<a href=\"https://colab.research.google.com/github/DCM2002/Wordle-Tweet-Data-Analysis/blob/main/Wordle_Tweet_Data_Analysis.ipynb\" target=\"_parent\"><img src=\"https://colab.research.google.com/assets/colab-badge.svg\" alt=\"Open In Colab\"/></a>"
      ]
    },
    {
      "cell_type": "code",
      "execution_count": 4,
      "metadata": {
        "id": "pDMWfn2SReMN"
      },
      "outputs": [],
      "source": [
        "import numpy as np\n",
        "import pandas as pd\n",
        "import matplotlib.pylab as plt\n",
        "import seaborn as sns\n",
        "import re #running regx for some of the data that we are going to get from the dataset\n",
        "\n",
        "pd.set_option('display.max_columns', 500)\n",
        "\n",
        "# For plotting\n",
        "from itertools import cycle\n",
        "plt.style.use(\"ggplot\")\n",
        "color_pal = plt.rcParams[\"axes.prop_cycle\"].by_key()[\"color\"]\n",
        "color_cycle = cycle(plt.rcParams[\"axes.prop_cycle\"].by_key()[\"color\"])\n",
        "\n"
      ]
    },
    {
      "cell_type": "markdown",
      "source": [
        "Load dataset"
      ],
      "metadata": {
        "id": "ui9axOYTSNRp"
      }
    },
    {
      "cell_type": "code",
      "source": [
        "tweets = pd.read_csv('../input/wordle-tweets/tweets.csv')"
      ],
      "metadata": {
        "id": "eA6glxhTS8du"
      },
      "execution_count": null,
      "outputs": []
    }
  ]
}